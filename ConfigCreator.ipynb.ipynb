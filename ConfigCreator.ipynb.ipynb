{
 "cells": [
  {
   "cell_type": "code",
   "execution_count": null,
   "metadata": {},
   "outputs": [],
   "source": []
  }
 ],
 "metadata": {
  "interpreter": {
   "hash": "47e8445cbc3031a7332e7f2ac49ea11000a7d7028202e5c39fc4ba2c6793b4e0"
  },
  "kernelspec": {
   "display_name": "Python 3.8.12 ('tf-web')",
   "language": "python",
   "name": "python3"
  },
  "language_info": {
   "name": "python",
   "version": "3.8.12"
  },
  "orig_nbformat": 4
 },
 "nbformat": 4,
 "nbformat_minor": 2
}
