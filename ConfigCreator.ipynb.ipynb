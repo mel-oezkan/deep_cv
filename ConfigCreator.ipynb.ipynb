{
 "cells": [
  {
   "cell_type": "code",
   "execution_count": 4,
   "metadata": {},
   "outputs": [],
   "source": [
    "import ipywidgets as widgets\n",
    "from ipywidgets import Box, Layout\n",
    "\n"
   ]
  },
  {
   "cell_type": "code",
   "execution_count": 17,
   "metadata": {},
   "outputs": [
    {
     "data": {
      "application/vnd.jupyter.widget-view+json": {
       "model_id": "d6e04bf0b2384d9c94dafb95c8d25e75",
       "version_major": 2,
       "version_minor": 0
      },
      "text/plain": [
       "Box(children=(Dropdown(description='Number:', options=('a', 'b', 'c'), value='a'), Dropdown(description='Numbe…"
      ]
     },
     "metadata": {},
     "output_type": "display_data"
    }
   ],
   "source": [
    "test1 = widgets.Dropdown(\n",
    "    options=['a', 'b', 'c'],\n",
    "    value='a',\n",
    "    description='Number:',\n",
    ")\n",
    "\n",
    "test2 = widgets.Dropdown(\n",
    "    options=[('One', 1), ('Two', 2), ('Three', 3)],\n",
    "    value=2,\n",
    "    description='Number:',\n",
    ")\n",
    "\n",
    "test3 = widgets.Dropdown(\n",
    "    options=[('One', 1), ('Two', 2), ('Three', 3)],\n",
    "    value=2,\n",
    "    description='Number:',\n",
    ")\n",
    "\n",
    "box_layout = Layout(\n",
    "    display='flex',\n",
    "    flex_flow='column',\n",
    "    align_items='stretch',\n",
    "    width='100%'\n",
    ")\n",
    "\n",
    "items = [test1, test2, test3]\n",
    "box = Box(children=items, layout=box_layout)\n",
    "\n",
    "box # <- this one command displays all children\n",
    "\n",
    "\n"
   ]
  },
  {
   "cell_type": "code",
   "execution_count": 1,
   "metadata": {},
   "outputs": [],
   "source": [
    "from src2.utils.config_util import ConfigCreator"
   ]
  },
  {
   "cell_type": "code",
   "execution_count": 2,
   "metadata": {},
   "outputs": [],
   "source": [
    "config = ConfigCreator()"
   ]
  },
  {
   "cell_type": "code",
   "execution_count": 3,
   "metadata": {},
   "outputs": [
    {
     "data": {
      "application/vnd.jupyter.widget-view+json": {
       "model_id": "225dcc7859cc4200ac7ad14a20af3278",
       "version_major": 2,
       "version_minor": 0
      },
      "text/plain": [
       "Box(children=(Dropdown(description='Dataset Name:', options=('reduced_data',), value='reduced_data'), Dropdown…"
      ]
     },
     "metadata": {},
     "output_type": "display_data"
    }
   ],
   "source": [
    "config.show_data_inputs()"
   ]
  },
  {
   "cell_type": "code",
   "execution_count": 4,
   "metadata": {},
   "outputs": [
    {
     "data": {
      "application/vnd.jupyter.widget-view+json": {
       "model_id": "ec0db8f3300144a0815c38b5fa45a16c",
       "version_major": 2,
       "version_minor": 0
      },
      "text/plain": [
       "Box(children=(IntText(value=12, description='Epochs:'), Dropdown(description='Model Name:', options=('unet',),…"
      ]
     },
     "metadata": {},
     "output_type": "display_data"
    }
   ],
   "source": [
    "config.show_train_inputs()"
   ]
  },
  {
   "cell_type": "code",
   "execution_count": 5,
   "metadata": {},
   "outputs": [
    {
     "name": "stdout",
     "output_type": "stream",
     "text": [
      "{'data': {'dataset_name': 'reduced_data', 'in_shape': [128, 128, 4], 'out_shape': [128, 128, 1], 'batch_size': 64, 'augmentation': ('normalize', 'flip_right', 'flip_left', 'rand_brightnessrand_hue')}, 'training': {'epochs': IntText(value=12, description='Epochs:'), 'model_type': Dropdown(description='Model Name:', options=('unet',), value='unet'), 'lr-r': FloatText(value=0.0001, description='Learning rate:'), 'callbacks': SelectMultiple(description='Callbacks', index=(0,), options=('WandbCallback',), value=('WandbCallback',)), 'optimizer': Dropdown(description='Optimizer:', options=('adam',), value='adam'), 'loss': Dropdown(description='Loss function:', options=('hybrid_loss', 'dice_loss', 'focal_loss', 'mean_iou', 'sparse_categorical_crossentropy', 'mean_square_error'), value='hybrid_loss')}}\n"
     ]
    }
   ],
   "source": [
    "config.debug_values()"
   ]
  },
  {
   "cell_type": "code",
   "execution_count": null,
   "metadata": {},
   "outputs": [],
   "source": []
  }
 ],
 "metadata": {
  "interpreter": {
   "hash": "47e8445cbc3031a7332e7f2ac49ea11000a7d7028202e5c39fc4ba2c6793b4e0"
  },
  "kernelspec": {
   "display_name": "Python 3.8.12 ('tf-web')",
   "language": "python",
   "name": "python3"
  },
  "language_info": {
   "codemirror_mode": {
    "name": "ipython",
    "version": 3
   },
   "file_extension": ".py",
   "mimetype": "text/x-python",
   "name": "python",
   "nbconvert_exporter": "python",
   "pygments_lexer": "ipython3",
   "version": "3.8.12"
  },
  "orig_nbformat": 4
 },
 "nbformat": 4,
 "nbformat_minor": 2
}
