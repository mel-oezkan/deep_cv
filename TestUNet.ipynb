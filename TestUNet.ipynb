{
 "cells": [
  {
   "cell_type": "code",
   "execution_count": 1,
   "metadata": {},
   "outputs": [],
   "source": [
    "import tensorflow as tf\n",
    "from tensorflow.keras.applications import efficientnet\n"
   ]
  },
  {
   "cell_type": "code",
   "execution_count": 12,
   "metadata": {},
   "outputs": [],
   "source": [
    "base_model = efficientnet.EfficientNetB5()"
   ]
  },
  {
   "cell_type": "code",
   "execution_count": 13,
   "metadata": {},
   "outputs": [],
   "source": [
    "layer_names = [layer.name for layer in base_model.layers]\n",
    "\n",
    "out_block2 = layer_names.index('stem_activation')\n",
    "out1 = base_model.layers[out1_idx].output\n",
    "\n"
   ]
  },
  {
   "cell_type": "code",
   "execution_count": 14,
   "metadata": {},
   "outputs": [],
   "source": [
    "out_block2_str = [x for x in layer_names if x.startswith('block2')][-1]\n",
    "out_block3_str = [x for x in layer_names if x.startswith('block3')][-1]\n",
    "out_block4_str = [x for x in layer_names if x.startswith('block4')][-1]\n",
    "out_block6_str = [x for x in layer_names if x.startswith('block6')][-1]\n",
    "\n",
    "out_block2_idx = layer_names.index(out_block2_str)\n",
    "out_block3_idx = layer_names.index(out_block3_str)\n",
    "out_block4_idx = layer_names.index(out_block4_str)\n",
    "out_block6_idx = layer_names.index(out_block6_str)\n",
    "\n",
    "out_block2 = base_model.layers[out_block2_idx].output\n",
    "out_block3 = base_model.layers[out_block3_idx].output\n",
    "out_block4 = base_model.layers[out_block4_idx].output\n",
    "out_block6 = base_model.layers[out_block6_idx].output\n"
   ]
  },
  {
   "cell_type": "code",
   "execution_count": 16,
   "metadata": {},
   "outputs": [],
   "source": [
    "base_outputs = [\n",
    "    out_block2,\n",
    "    out_block3,\n",
    "    out_block4,\n",
    "    out_block6,\n",
    "    base_model.layers[-1].output\n",
    "]\n"
   ]
  },
  {
   "cell_type": "code",
   "execution_count": null,
   "metadata": {},
   "outputs": [],
   "source": [
    "down_stack = tf.keras.Model(inputs=base_model.input, outputs=base_outputs)\n"
   ]
  }
 ],
 "metadata": {
  "interpreter": {
   "hash": "14110c24d2b32c212e6e897e8c6a487ab34e6385fdfbe3d3771038bc07fdad43"
  },
  "kernelspec": {
   "display_name": "Python 3.8.10 ('advdl')",
   "language": "python",
   "name": "python3"
  },
  "language_info": {
   "codemirror_mode": {
    "name": "ipython",
    "version": 3
   },
   "file_extension": ".py",
   "mimetype": "text/x-python",
   "name": "python",
   "nbconvert_exporter": "python",
   "pygments_lexer": "ipython3",
   "version": "3.8.10"
  },
  "orig_nbformat": 4
 },
 "nbformat": 4,
 "nbformat_minor": 2
}
